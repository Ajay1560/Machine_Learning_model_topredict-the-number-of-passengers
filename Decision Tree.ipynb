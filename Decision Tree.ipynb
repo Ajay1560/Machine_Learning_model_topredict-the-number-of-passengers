{
 "cells": [
  {
   "cell_type": "code",
   "execution_count": 1,
   "id": "038b72b6",
   "metadata": {},
   "outputs": [
    {
     "name": "stderr",
     "output_type": "stream",
     "text": [
      "C:\\Users\\ajayk\\anaconda3\\lib\\site-packages\\scipy\\__init__.py:146: UserWarning: A NumPy version >=1.16.5 and <1.23.0 is required for this version of SciPy (detected version 1.26.2\n",
      "  warnings.warn(f\"A NumPy version >={np_minversion} and <{np_maxversion}\"\n"
     ]
    },
    {
     "name": "stdout",
     "output_type": "stream",
     "text": [
      "Training Data Shape 87\n",
      "Testing Data Shape 26\n"
     ]
    }
   ],
   "source": [
    "import pandas as pd\n",
    "import numpy as np\n",
    "import matplotlib.pyplot as plt\n",
    "from sklearn.model_selection import train_test_split\n",
    "from sklearn.tree import DecisionTreeRegressor\n",
    "from sklearn.metrics import mean_squared_error, r2_score\n",
    "data=pd.read_excel(\"qwerty2.xlsx\")\n",
    "# Assuming 'data' DataFrame is already loaded\n",
    "split = np.random.rand(len(data)) < 0.8\n",
    "train = data[split]\n",
    "test = data[~split]\n",
    "print(\"Training Data Shape\", len(train))\n",
    "print(\"Testing Data Shape\", len(test))"
   ]
  },
  {
   "cell_type": "code",
   "execution_count": 2,
   "id": "da5939d1",
   "metadata": {},
   "outputs": [
    {
     "data": {
      "image/png": "[encoded data removed]",
      "text/plain": [
       "<Figure size 432x288 with 1 Axes>"
      ]
     },
     "metadata": {
      "needs_background": "light"
     },
     "output_type": "display_data"
    },
    {
     "name": "stdout",
     "output_type": "stream",
     "text": [
      "Root Mean Squared Error (RMSE): 4346.379576506972\n",
      "R2 Score: 0.9307153521290995\n",
      "Predicted Number of Passengers: 32199.0\n",
      "Predicted Number of Passengers: 80527.0\n"
     ]
    }
   ],
   "source": [
    "\n",
    "\n",
    "# Prepare the data\n",
    "X_train = train[['Average Temperature (°F)', 'Snow', 'Emergency situations', 'Fuel Prices']]\n",
    "y_train = train['Total Passangers']\n",
    "\n",
    "X_test = test[['Average Temperature (°F)', 'Snow', 'Emergency situations', 'Fuel Prices']]\n",
    "y_test = test['Total Passangers']\n",
    "\n",
    "# Create and fit the decision tree model\n",
    "reg_tree = DecisionTreeRegressor(random_state=42)\n",
    "reg_tree.fit(X_train, y_train)\n",
    "\n",
    "# Predictions on the training set\n",
    "y_train_pred = reg_tree.predict(X_train)\n",
    "\n",
    "# Plotting the Results\n",
    "x = np.arange(0, len(train), 1)\n",
    "plt.scatter(x, y_train, color=\"blue\", label=\"Actual\")\n",
    "plt.scatter(x, y_train_pred, color=\"green\", label=\"Predicted (Decision Tree)\")\n",
    "\n",
    "\n",
    "plt.xlabel(\"Data Points\")\n",
    "plt.ylabel(\"Total Passengers\")\n",
    "plt.legend()\n",
    "plt.show()\n",
    "\n",
    "# Testing the Model\n",
    "y_test_pred = reg_tree.predict(X_test)\n",
    "\n",
    "# Model Evaluation\n",
    "rmse = np.sqrt(mean_squared_error(y_test, y_test_pred))\n",
    "print(f\"Root Mean Squared Error (RMSE): {rmse}\")\n",
    "print(\"R2 Score:\", r2_score(y_test, y_test_pred))\n",
    "\n",
    "# Assuming 'reg_tree' is already trained\n",
    "# Create a function for prediction\n",
    "def predict_passengers_decision_tree(temperature, snow, emergency_situations, fuel_prices):\n",
    "    # Prepare the input data\n",
    "    input_data = np.array([[temperature, snow, emergency_situations, fuel_prices]])\n",
    "\n",
    "    # Predict the number of passengers\n",
    "    predicted_passengers = reg_tree.predict(input_data)\n",
    "\n",
    "    # Display the prediction\n",
    "    print(f\"Predicted Number of Passengers: {predicted_passengers[0]}\")\n",
    "\n",
    "# Test the prediction function\n",
    "predict_passengers_decision_tree(30.15, 0, 0, 2.45)\n",
    "predict_passengers_decision_tree(37, 0, 0, 3.77)\n"
   ]
  },
  {
   "cell_type": "code",
   "execution_count": 3,
   "id": "6a5e8d63",
   "metadata": {},
   "outputs": [
    {
     "name": "stdout",
     "output_type": "stream",
     "text": [
      "     Total Passangers  Predicted Total Passengers (Decision Tree)\n",
      "0               32301                                     32301.0\n",
      "1               32805                                     32805.0\n",
      "2               32046                                     32046.0\n",
      "3               30884                                     30884.0\n",
      "4               26124                                     26124.0\n",
      "..                ...                                         ...\n",
      "108             90059                                     90059.0\n",
      "109             89043                                     89043.0\n",
      "110             83505                                     90059.0\n",
      "111             92744                                     92744.0\n",
      "112             93858                                     80527.0\n",
      "\n",
      "[113 rows x 2 columns]\n"
     ]
    }
   ],
   "source": [
    "# Transform the input data for prediction\n",
    "X_all = data[['Average Temperature (°F)', 'Snow', 'Emergency situations', 'Fuel Prices']]\n",
    "y_all_pred = reg_tree.predict(X_all)\n",
    "\n",
    "# Display the predictions\n",
    "predictions_tree = pd.DataFrame({'Predicted Total Passengers (Decision Tree)': y_all_pred})\n",
    "result_tree = pd.concat([data, predictions_tree], axis=1)\n",
    "print(result_tree[['Total Passangers', 'Predicted Total Passengers (Decision Tree)']])\n",
    "\n"
   ]
  },
  {
   "cell_type": "code",
   "execution_count": null,
   "id": "7426e962",
   "metadata": {},
   "outputs": [],
   "source": []
  }
 ],
 "metadata": {
  "kernelspec": {
   "display_name": "Python 3 (ipykernel)",
   "language": "python",
   "name": "python3"
  },
  "language_info": {
   "codemirror_mode": {
    "name": "ipython",
    "version": 3
   },
   "file_extension": ".py",
   "mimetype": "text/x-python",
   "name": "python",
   "nbconvert_exporter": "python",
   "pygments_lexer": "ipython3",
   "version": "3.9.7"
  }
 },
 "nbformat": 4,
 "nbformat_minor": 5
}
